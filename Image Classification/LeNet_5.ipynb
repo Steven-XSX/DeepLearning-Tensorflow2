{
  "nbformat": 4,
  "nbformat_minor": 0,
  "metadata": {
    "kernelspec": {
      "name": "python3",
      "display_name": "Python 3"
    },
    "language_info": {
      "codemirror_mode": {
        "name": "ipython",
        "version": 3
      },
      "file_extension": ".py",
      "mimetype": "text/x-python",
      "name": "python",
      "nbconvert_exporter": "python",
      "pygments_lexer": "ipython3",
      "version": "3.6.10"
    },
    "colab": {
      "name": "LeNet-5.ipynb",
      "provenance": []
    },
    "accelerator": "GPU"
  },
  "cells": [
    {
      "cell_type": "code",
      "metadata": {
        "id": "tnI9eFwloRYb",
        "colab_type": "code",
        "colab": {
          "base_uri": "https://localhost:8080/",
          "height": 122
        },
        "outputId": "fbd11311-ace2-4807-dca4-42e8b49219f8"
      },
      "source": [
        "import sys\n",
        "sys.path[0] = '/tensorflow-2.1.0/python3.6'\n",
        "from google.colab import drive\n",
        "drive.mount('/drive')"
      ],
      "execution_count": 1,
      "outputs": [
        {
          "output_type": "stream",
          "text": [
            "Go to this URL in a browser: https://accounts.google.com/o/oauth2/auth?client_id=947318989803-6bn6qk8qdgf4n4g3pfee6491hc0brc4i.apps.googleusercontent.com&redirect_uri=urn%3aietf%3awg%3aoauth%3a2.0%3aoob&response_type=code&scope=email%20https%3a%2f%2fwww.googleapis.com%2fauth%2fdocs.test%20https%3a%2f%2fwww.googleapis.com%2fauth%2fdrive%20https%3a%2f%2fwww.googleapis.com%2fauth%2fdrive.photos.readonly%20https%3a%2f%2fwww.googleapis.com%2fauth%2fpeopleapi.readonly\n",
            "\n",
            "Enter your authorization code:\n",
            "··········\n",
            "Mounted at /drive\n"
          ],
          "name": "stdout"
        }
      ]
    },
    {
      "cell_type": "code",
      "metadata": {
        "id": "YrXorz_SoRYk",
        "colab_type": "code",
        "colab": {}
      },
      "source": [
        "import tensorflow as tf\n",
        "import matplotlib.image as mpimg\n",
        "from tensorflow import keras\n",
        "from tensorflow.keras import layers, Sequential, losses, optimizers, datasets\n",
        "from tensorflow.keras.utils import to_categorical\n",
        "from PIL import Image\n",
        "import matplotlib.pyplot as plt"
      ],
      "execution_count": 0,
      "outputs": []
    },
    {
      "cell_type": "code",
      "metadata": {
        "id": "0NcBmXqFoRYq",
        "colab_type": "code",
        "colab": {
          "base_uri": "https://localhost:8080/",
          "height": 34
        },
        "outputId": "a4faa756-21a9-44b4-8286-258f45ee3486"
      },
      "source": [
        "tf.__version__"
      ],
      "execution_count": 3,
      "outputs": [
        {
          "output_type": "execute_result",
          "data": {
            "text/plain": [
              "'2.1.0'"
            ]
          },
          "metadata": {
            "tags": []
          },
          "execution_count": 3
        }
      ]
    },
    {
      "cell_type": "code",
      "metadata": {
        "id": "gI4tC7j9oRYv",
        "colab_type": "code",
        "colab": {
          "base_uri": "https://localhost:8080/",
          "height": 85
        },
        "outputId": "351a351c-0920-44d3-dd16-dfe768f10a5d"
      },
      "source": [
        "(x, y), (x_test, y_test) = datasets.mnist.load_data()\n",
        "print(x.shape,y.shape,x_test.shape,y_test.shape)\n",
        "print(x.dtype,y.dtype)"
      ],
      "execution_count": 4,
      "outputs": [
        {
          "output_type": "stream",
          "text": [
            "Downloading data from https://storage.googleapis.com/tensorflow/tf-keras-datasets/mnist.npz\n",
            "11493376/11490434 [==============================] - 0s 0us/step\n",
            "(60000, 28, 28) (60000,) (10000, 28, 28) (10000,)\n",
            "uint8 uint8\n"
          ],
          "name": "stdout"
        }
      ]
    },
    {
      "cell_type": "code",
      "metadata": {
        "id": "G8mmjdJroRYz",
        "colab_type": "code",
        "colab": {}
      },
      "source": [
        ""
      ],
      "execution_count": 0,
      "outputs": []
    },
    {
      "cell_type": "code",
      "metadata": {
        "id": "6igewpM8oRY1",
        "colab_type": "code",
        "colab": {
          "base_uri": "https://localhost:8080/",
          "height": 256
        },
        "outputId": "2b8d84f1-ec39-4338-dcdf-31a235926456"
      },
      "source": [
        "%matplotlib inline\n",
        "plt.figure(figsize=(20,20))\n",
        "for i in range(1, 6):\n",
        "    plt.subplot(1, 5, i)\n",
        "    im = Image.fromarray(x[i])\n",
        "    plt.imshow(im)\n",
        "    plt.title(f'This image is {y[i]}')\n",
        "plt.show()"
      ],
      "execution_count": 5,
      "outputs": [
        {
          "output_type": "display_data",
          "data": {
            "image/png": "[encoded data removed]",
            "text/plain": [
              "<Figure size 1440x1440 with 5 Axes>"
            ]
          },
          "metadata": {
            "tags": []
          }
        }
      ]
    },
    {
      "cell_type": "code",
      "metadata": {
        "id": "HCOSQoJSoRY3",
        "colab_type": "code",
        "colab": {}
      },
      "source": [
        "def preprocess(x, y):\n",
        "    x = tf.expand_dims(tf.cast(x, dtype=tf.float32) / 255., 3)\n",
        "    y = tf.cast(to_categorical(tf.cast(y, dtype=tf.int32), num_classes=10), dtype=tf.int32)\n",
        "    print(x.shape)\n",
        "    return x,y"
      ],
      "execution_count": 0,
      "outputs": []
    },
    {
      "cell_type": "code",
      "metadata": {
        "id": "NAtPvly9oRY5",
        "colab_type": "code",
        "colab": {}
      },
      "source": [
        "class LeNet5(keras.Model):\n",
        "    def __init__(self):\n",
        "        super(LeNet5, self).__init__()\n",
        "        self.LeNet5 = Sequential([\n",
        "            layers.Conv2D(6, kernel_size=[5,5], padding=\"valid\", activation=tf.nn.relu),\n",
        "            layers.MaxPool2D(pool_size=[2,2], strides=2, padding=\"same\"),\n",
        "            layers.Conv2D(16, kernel_size=[5,5], padding=\"valid\", activation=tf.nn.relu),\n",
        "            layers.MaxPool2D(pool_size=[2,2], strides=2, padding=\"same\"),\n",
        "            layers.Flatten(),\n",
        "            layers.Dense(120, activation=tf.nn.relu),\n",
        "            layers.Dropout(rate=0.5),\n",
        "            layers.Dense(84, activation=tf.nn.relu),\n",
        "            layers.Dropout(rate=0.5),\n",
        "            layers.Dense(10, activation=tf.nn.softmax)\n",
        "        ])\n",
        "        \n",
        "    def call(self, inputs, training=None):\n",
        "        x = inputs\n",
        "        prediction = self.LeNet5(x)\n",
        "        return prediction"
      ],
      "execution_count": 0,
      "outputs": []
    },
    {
      "cell_type": "code",
      "metadata": {
        "id": "WsTcfGznoRY7",
        "colab_type": "code",
        "colab": {}
      },
      "source": [
        "def main(x, y, x_test, y_test):\n",
        "    epochs = 1000\n",
        "    model = LeNet5()\n",
        "    model.build(input_shape=(None, 28, 28, 1))\n",
        "    model.summary()\n",
        "    save_best = keras.callbacks.ModelCheckpoint('/drive/My Drive/Github/CNN/LeNet5_best_model.h5',\\\n",
        "                                               monitor='val_loss', verbose=1, save_best_only=True,\\\n",
        "                                               mode='min')\n",
        "    early_stop = keras.callbacks.EarlyStopping(monitor='val_loss', verbose=1, min_delta=0, \\\n",
        "                                              patience=100, mode='auto')\n",
        "    callbacks_list = [early_stop, save_best]\n",
        "    model.compile(optimizer=optimizers.Adam(),\n",
        "                 loss=losses.categorical_crossentropy,\n",
        "                 metrics=['accuracy'])\n",
        "    x, y = preprocess(x, y)\n",
        "    x_test, y_test = preprocess(x_test, y_test)\n",
        "    history = model.fit(x=x, y=y, epochs=epochs, batch_size=512, validation_data=(x_test, y_test),\n",
        "                       verbose=1, callbacks=callbacks_list)\n",
        "    return history"
      ],
      "execution_count": 0,
      "outputs": []
    },
    {
      "cell_type": "code",
      "metadata": {
        "id": "y-z9YgMRoRY8",
        "colab_type": "code",
        "colab": {
          "base_uri": "https://localhost:8080/",
          "height": 1000
        },
        "outputId": "853df45f-1d5c-4bed-872e-ccafce94a5b7"
      },
      "source": [
        "history = main(x, y, x_test, y_test)"
      ],
      "execution_count": 9,
      "outputs": [
        {
          "output_type": "stream",
          "text": [
            "Model: \"le_net5\"\n",
            "_________________________________________________________________\n",
            "Layer (type)                 Output Shape              Param #   \n",
            "=================================================================\n",
            "sequential (Sequential)      multiple                  44426     \n",
            "=================================================================\n",
            "Total params: 44,426\n",
            "Trainable params: 44,426\n",
            "Non-trainable params: 0\n",
            "_________________________________________________________________\n",
            "(60000, 28, 28, 1)\n",
            "(10000, 28, 28, 1)\n",
            "Train on 60000 samples, validate on 10000 samples\n",
            "Epoch 1/1000\n",
            "59392/60000 [============================>.] - ETA: 0s - loss: 1.2035 - accuracy: 0.5941\n",
            "Epoch 00001: val_loss improved from inf to 0.26652, saving model to /drive/My Drive/Github/CNN/LeNet5_best_model.h5\n",
            "60000/60000 [==============================] - 8s 129us/sample - loss: 1.1969 - accuracy: 0.5965 - val_loss: 0.2665 - val_accuracy: 0.9246\n",
            "Epoch 2/1000\n",
            "54784/60000 [==========================>...] - ETA: 0s - loss: 0.4237 - accuracy: 0.8747\n",
            "Epoch 00002: val_loss improved from 0.26652 to 0.14842, saving model to /drive/My Drive/Github/CNN/LeNet5_best_model.h5\n",
            "60000/60000 [==============================] - 1s 11us/sample - loss: 0.4161 - accuracy: 0.8767 - val_loss: 0.1484 - val_accuracy: 0.9539\n",
            "Epoch 3/1000\n",
            "59904/60000 [============================>.] - ETA: 0s - loss: 0.2790 - accuracy: 0.9197\n",
            "Epoch 00003: val_loss improved from 0.14842 to 0.11473, saving model to /drive/My Drive/Github/CNN/LeNet5_best_model.h5\n",
            "60000/60000 [==============================] - 1s 11us/sample - loss: 0.2789 - accuracy: 0.9197 - val_loss: 0.1147 - val_accuracy: 0.9660\n",
            "Epoch 4/1000\n",
            "55296/60000 [==========================>...] - ETA: 0s - loss: 0.2212 - accuracy: 0.9380\n",
            "Epoch 00004: val_loss improved from 0.11473 to 0.09393, saving model to /drive/My Drive/Github/CNN/LeNet5_best_model.h5\n",
            "60000/60000 [==============================] - 1s 11us/sample - loss: 0.2188 - accuracy: 0.9384 - val_loss: 0.0939 - val_accuracy: 0.9701\n",
            "Epoch 5/1000\n",
            "58880/60000 [============================>.] - ETA: 0s - loss: 0.1824 - accuracy: 0.9499\n",
            "Epoch 00005: val_loss improved from 0.09393 to 0.08272, saving model to /drive/My Drive/Github/CNN/LeNet5_best_model.h5\n",
            "60000/60000 [==============================] - 1s 12us/sample - loss: 0.1823 - accuracy: 0.9498 - val_loss: 0.0827 - val_accuracy: 0.9746\n",
            "Epoch 6/1000\n",
            "55296/60000 [==========================>...] - ETA: 0s - loss: 0.1662 - accuracy: 0.9541\n",
            "Epoch 00006: val_loss improved from 0.08272 to 0.07128, saving model to /drive/My Drive/Github/CNN/LeNet5_best_model.h5\n",
            "60000/60000 [==============================] - 1s 11us/sample - loss: 0.1660 - accuracy: 0.9545 - val_loss: 0.0713 - val_accuracy: 0.9780\n",
            "Epoch 7/1000\n",
            "55808/60000 [==========================>...] - ETA: 0s - loss: 0.1475 - accuracy: 0.9598\n",
            "Epoch 00007: val_loss improved from 0.07128 to 0.06274, saving model to /drive/My Drive/Github/CNN/LeNet5_best_model.h5\n",
            "60000/60000 [==============================] - 1s 11us/sample - loss: 0.1472 - accuracy: 0.9599 - val_loss: 0.0627 - val_accuracy: 0.9810\n",
            "Epoch 8/1000\n",
            "58880/60000 [============================>.] - ETA: 0s - loss: 0.1309 - accuracy: 0.9641\n",
            "Epoch 00008: val_loss did not improve from 0.06274\n",
            "60000/60000 [==============================] - 1s 11us/sample - loss: 0.1310 - accuracy: 0.9640 - val_loss: 0.0657 - val_accuracy: 0.9801\n",
            "Epoch 9/1000\n",
            "54272/60000 [==========================>...] - ETA: 0s - loss: 0.1237 - accuracy: 0.9668\n",
            "Epoch 00009: val_loss improved from 0.06274 to 0.05763, saving model to /drive/My Drive/Github/CNN/LeNet5_best_model.h5\n",
            "60000/60000 [==============================] - 1s 10us/sample - loss: 0.1216 - accuracy: 0.9673 - val_loss: 0.0576 - val_accuracy: 0.9838\n",
            "Epoch 10/1000\n",
            "56320/60000 [===========================>..] - ETA: 0s - loss: 0.1126 - accuracy: 0.9690\n",
            "Epoch 00010: val_loss improved from 0.05763 to 0.05256, saving model to /drive/My Drive/Github/CNN/LeNet5_best_model.h5\n",
            "60000/60000 [==============================] - 1s 11us/sample - loss: 0.1124 - accuracy: 0.9692 - val_loss: 0.0526 - val_accuracy: 0.9839\n",
            "Epoch 11/1000\n",
            "56320/60000 [===========================>..] - ETA: 0s - loss: 0.1060 - accuracy: 0.9712\n",
            "Epoch 00011: val_loss did not improve from 0.05256\n",
            "60000/60000 [==============================] - 1s 11us/sample - loss: 0.1052 - accuracy: 0.9713 - val_loss: 0.0553 - val_accuracy: 0.9840\n",
            "Epoch 12/1000\n",
            "57856/60000 [===========================>..] - ETA: 0s - loss: 0.1019 - accuracy: 0.9727\n",
            "Epoch 00012: val_loss improved from 0.05256 to 0.04896, saving model to /drive/My Drive/Github/CNN/LeNet5_best_model.h5\n",
            "60000/60000 [==============================] - 1s 12us/sample - loss: 0.1016 - accuracy: 0.9726 - val_loss: 0.0490 - val_accuracy: 0.9856\n",
            "Epoch 13/1000\n",
            "55296/60000 [==========================>...] - ETA: 0s - loss: 0.0926 - accuracy: 0.9745\n",
            "Epoch 00013: val_loss improved from 0.04896 to 0.04548, saving model to /drive/My Drive/Github/CNN/LeNet5_best_model.h5\n",
            "60000/60000 [==============================] - 1s 11us/sample - loss: 0.0931 - accuracy: 0.9740 - val_loss: 0.0455 - val_accuracy: 0.9862\n",
            "Epoch 14/1000\n",
            "58880/60000 [============================>.] - ETA: 0s - loss: 0.0895 - accuracy: 0.9752\n",
            "Epoch 00014: val_loss improved from 0.04548 to 0.04406, saving model to /drive/My Drive/Github/CNN/LeNet5_best_model.h5\n",
            "60000/60000 [==============================] - 1s 11us/sample - loss: 0.0898 - accuracy: 0.9752 - val_loss: 0.0441 - val_accuracy: 0.9873\n",
            "Epoch 15/1000\n",
            "55296/60000 [==========================>...] - ETA: 0s - loss: 0.0868 - accuracy: 0.9770\n",
            "Epoch 00015: val_loss did not improve from 0.04406\n",
            "60000/60000 [==============================] - 1s 11us/sample - loss: 0.0858 - accuracy: 0.9771 - val_loss: 0.0441 - val_accuracy: 0.9874\n",
            "Epoch 16/1000\n",
            "58368/60000 [============================>.] - ETA: 0s - loss: 0.0828 - accuracy: 0.9785\n",
            "Epoch 00016: val_loss did not improve from 0.04406\n",
            "60000/60000 [==============================] - 1s 11us/sample - loss: 0.0826 - accuracy: 0.9786 - val_loss: 0.0445 - val_accuracy: 0.9869\n",
            "Epoch 17/1000\n",
            "59392/60000 [============================>.] - ETA: 0s - loss: 0.0762 - accuracy: 0.9791\n",
            "Epoch 00017: val_loss improved from 0.04406 to 0.04393, saving model to /drive/My Drive/Github/CNN/LeNet5_best_model.h5\n",
            "60000/60000 [==============================] - 1s 12us/sample - loss: 0.0762 - accuracy: 0.9791 - val_loss: 0.0439 - val_accuracy: 0.9865\n",
            "Epoch 18/1000\n",
            "58368/60000 [============================>.] - ETA: 0s - loss: 0.0752 - accuracy: 0.9797\n",
            "Epoch 00018: val_loss improved from 0.04393 to 0.04090, saving model to /drive/My Drive/Github/CNN/LeNet5_best_model.h5\n",
            "60000/60000 [==============================] - 1s 10us/sample - loss: 0.0751 - accuracy: 0.9797 - val_loss: 0.0409 - val_accuracy: 0.9876\n",
            "Epoch 19/1000\n",
            "55296/60000 [==========================>...] - ETA: 0s - loss: 0.0713 - accuracy: 0.9803\n",
            "Epoch 00019: val_loss improved from 0.04090 to 0.03583, saving model to /drive/My Drive/Github/CNN/LeNet5_best_model.h5\n",
            "60000/60000 [==============================] - 1s 11us/sample - loss: 0.0717 - accuracy: 0.9800 - val_loss: 0.0358 - val_accuracy: 0.9895\n",
            "Epoch 20/1000\n",
            "59392/60000 [============================>.] - ETA: 0s - loss: 0.0680 - accuracy: 0.9812\n",
            "Epoch 00020: val_loss did not improve from 0.03583\n",
            "60000/60000 [==============================] - 1s 10us/sample - loss: 0.0681 - accuracy: 0.9811 - val_loss: 0.0391 - val_accuracy: 0.9886\n",
            "Epoch 21/1000\n",
            "56320/60000 [===========================>..] - ETA: 0s - loss: 0.0660 - accuracy: 0.9821\n",
            "Epoch 00021: val_loss did not improve from 0.03583\n",
            "60000/60000 [==============================] - 1s 11us/sample - loss: 0.0661 - accuracy: 0.9819 - val_loss: 0.0367 - val_accuracy: 0.9895\n",
            "Epoch 22/1000\n",
            "57856/60000 [===========================>..] - ETA: 0s - loss: 0.0651 - accuracy: 0.9830\n",
            "Epoch 00022: val_loss did not improve from 0.03583\n",
            "60000/60000 [==============================] - 1s 10us/sample - loss: 0.0650 - accuracy: 0.9831 - val_loss: 0.0362 - val_accuracy: 0.9889\n",
            "Epoch 23/1000\n",
            "56320/60000 [===========================>..] - ETA: 0s - loss: 0.0633 - accuracy: 0.9820\n",
            "Epoch 00023: val_loss did not improve from 0.03583\n",
            "60000/60000 [==============================] - 1s 11us/sample - loss: 0.0630 - accuracy: 0.9821 - val_loss: 0.0378 - val_accuracy: 0.9895\n",
            "Epoch 24/1000\n",
            "55296/60000 [==========================>...] - ETA: 0s - loss: 0.0601 - accuracy: 0.9828\n",
            "Epoch 00024: val_loss did not improve from 0.03583\n",
            "60000/60000 [==============================] - 1s 12us/sample - loss: 0.0596 - accuracy: 0.9830 - val_loss: 0.0364 - val_accuracy: 0.9900\n",
            "Epoch 25/1000\n",
            "59392/60000 [============================>.] - ETA: 0s - loss: 0.0585 - accuracy: 0.9842\n",
            "Epoch 00025: val_loss improved from 0.03583 to 0.03263, saving model to /drive/My Drive/Github/CNN/LeNet5_best_model.h5\n",
            "60000/60000 [==============================] - 1s 11us/sample - loss: 0.0588 - accuracy: 0.9840 - val_loss: 0.0326 - val_accuracy: 0.9900\n",
            "Epoch 26/1000\n",
            "57856/60000 [===========================>..] - ETA: 0s - loss: 0.0559 - accuracy: 0.9844\n",
            "Epoch 00026: val_loss did not improve from 0.03263\n",
            "60000/60000 [==============================] - 1s 11us/sample - loss: 0.0559 - accuracy: 0.9843 - val_loss: 0.0356 - val_accuracy: 0.9902\n",
            "Epoch 27/1000\n",
            "58368/60000 [============================>.] - ETA: 0s - loss: 0.0552 - accuracy: 0.9850\n",
            "Epoch 00027: val_loss improved from 0.03263 to 0.03231, saving model to /drive/My Drive/Github/CNN/LeNet5_best_model.h5\n",
            "60000/60000 [==============================] - 1s 11us/sample - loss: 0.0551 - accuracy: 0.9850 - val_loss: 0.0323 - val_accuracy: 0.9903\n",
            "Epoch 28/1000\n",
            "58880/60000 [============================>.] - ETA: 0s - loss: 0.0565 - accuracy: 0.9851\n",
            "Epoch 00028: val_loss did not improve from 0.03231\n",
            "60000/60000 [==============================] - 1s 10us/sample - loss: 0.0565 - accuracy: 0.9851 - val_loss: 0.0330 - val_accuracy: 0.9892\n",
            "Epoch 29/1000\n",
            "56320/60000 [===========================>..] - ETA: 0s - loss: 0.0519 - accuracy: 0.9856\n",
            "Epoch 00029: val_loss did not improve from 0.03231\n",
            "60000/60000 [==============================] - 1s 11us/sample - loss: 0.0519 - accuracy: 0.9858 - val_loss: 0.0351 - val_accuracy: 0.9895\n",
            "Epoch 30/1000\n",
            "58880/60000 [============================>.] - ETA: 0s - loss: 0.0492 - accuracy: 0.9862\n",
            "Epoch 00030: val_loss improved from 0.03231 to 0.02944, saving model to /drive/My Drive/Github/CNN/LeNet5_best_model.h5\n",
            "60000/60000 [==============================] - 1s 11us/sample - loss: 0.0495 - accuracy: 0.9861 - val_loss: 0.0294 - val_accuracy: 0.9902\n",
            "Epoch 31/1000\n",
            "54272/60000 [==========================>...] - ETA: 0s - loss: 0.0498 - accuracy: 0.9859\n",
            "Epoch 00031: val_loss did not improve from 0.02944\n",
            "60000/60000 [==============================] - 1s 10us/sample - loss: 0.0496 - accuracy: 0.9861 - val_loss: 0.0299 - val_accuracy: 0.9912\n",
            "Epoch 32/1000\n",
            "57856/60000 [===========================>..] - ETA: 0s - loss: 0.0465 - accuracy: 0.9869\n",
            "Epoch 00032: val_loss did not improve from 0.02944\n",
            "60000/60000 [==============================] - 1s 10us/sample - loss: 0.0465 - accuracy: 0.9868 - val_loss: 0.0332 - val_accuracy: 0.9902\n",
            "Epoch 33/1000\n",
            "58880/60000 [============================>.] - ETA: 0s - loss: 0.0440 - accuracy: 0.9875\n",
            "Epoch 00033: val_loss did not improve from 0.02944\n",
            "60000/60000 [==============================] - 1s 10us/sample - loss: 0.0443 - accuracy: 0.9874 - val_loss: 0.0326 - val_accuracy: 0.9902\n",
            "Epoch 34/1000\n",
            "59392/60000 [============================>.] - ETA: 0s - loss: 0.0467 - accuracy: 0.9868\n",
            "Epoch 00034: val_loss did not improve from 0.02944\n",
            "60000/60000 [==============================] - 1s 10us/sample - loss: 0.0466 - accuracy: 0.9868 - val_loss: 0.0314 - val_accuracy: 0.9905\n",
            "Epoch 35/1000\n",
            "54784/60000 [==========================>...] - ETA: 0s - loss: 0.0447 - accuracy: 0.9872\n",
            "Epoch 00035: val_loss did not improve from 0.02944\n",
            "60000/60000 [==============================] - 1s 11us/sample - loss: 0.0448 - accuracy: 0.9872 - val_loss: 0.0312 - val_accuracy: 0.9917\n",
            "Epoch 36/1000\n",
            "57856/60000 [===========================>..] - ETA: 0s - loss: 0.0422 - accuracy: 0.9881\n",
            "Epoch 00036: val_loss did not improve from 0.02944\n",
            "60000/60000 [==============================] - 1s 11us/sample - loss: 0.0421 - accuracy: 0.9882 - val_loss: 0.0301 - val_accuracy: 0.9906\n",
            "Epoch 37/1000\n",
            "56320/60000 [===========================>..] - ETA: 0s - loss: 0.0430 - accuracy: 0.9882\n",
            "Epoch 00037: val_loss did not improve from 0.02944\n",
            "60000/60000 [==============================] - 1s 11us/sample - loss: 0.0431 - accuracy: 0.9881 - val_loss: 0.0320 - val_accuracy: 0.9907\n",
            "Epoch 38/1000\n",
            "58880/60000 [============================>.] - ETA: 0s - loss: 0.0404 - accuracy: 0.9885\n",
            "Epoch 00038: val_loss did not improve from 0.02944\n",
            "60000/60000 [==============================] - 1s 10us/sample - loss: 0.0402 - accuracy: 0.9885 - val_loss: 0.0315 - val_accuracy: 0.9905\n",
            "Epoch 39/1000\n",
            "59904/60000 [============================>.] - ETA: 0s - loss: 0.0376 - accuracy: 0.9894\n",
            "Epoch 00039: val_loss did not improve from 0.02944\n",
            "60000/60000 [==============================] - 1s 10us/sample - loss: 0.0375 - accuracy: 0.9894 - val_loss: 0.0308 - val_accuracy: 0.9910\n",
            "Epoch 40/1000\n",
            "58368/60000 [============================>.] - ETA: 0s - loss: 0.0381 - accuracy: 0.9892\n",
            "Epoch 00040: val_loss improved from 0.02944 to 0.02908, saving model to /drive/My Drive/Github/CNN/LeNet5_best_model.h5\n",
            "60000/60000 [==============================] - 1s 12us/sample - loss: 0.0380 - accuracy: 0.9892 - val_loss: 0.0291 - val_accuracy: 0.9915\n",
            "Epoch 41/1000\n",
            "54784/60000 [==========================>...] - ETA: 0s - loss: 0.0370 - accuracy: 0.9891\n",
            "Epoch 00041: val_loss improved from 0.02908 to 0.02904, saving model to /drive/My Drive/Github/CNN/LeNet5_best_model.h5\n",
            "60000/60000 [==============================] - 1s 11us/sample - loss: 0.0366 - accuracy: 0.9891 - val_loss: 0.0290 - val_accuracy: 0.9920\n",
            "Epoch 42/1000\n",
            "58368/60000 [============================>.] - ETA: 0s - loss: 0.0348 - accuracy: 0.9900\n",
            "Epoch 00042: val_loss did not improve from 0.02904\n",
            "60000/60000 [==============================] - 1s 10us/sample - loss: 0.0350 - accuracy: 0.9899 - val_loss: 0.0305 - val_accuracy: 0.9917\n",
            "Epoch 43/1000\n",
            "57344/60000 [===========================>..] - ETA: 0s - loss: 0.0356 - accuracy: 0.9897\n",
            "Epoch 00043: val_loss did not improve from 0.02904\n",
            "60000/60000 [==============================] - 1s 10us/sample - loss: 0.0355 - accuracy: 0.9896 - val_loss: 0.0321 - val_accuracy: 0.9913\n",
            "Epoch 44/1000\n",
            "59904/60000 [============================>.] - ETA: 0s - loss: 0.0359 - accuracy: 0.9898\n",
            "Epoch 00044: val_loss did not improve from 0.02904\n",
            "60000/60000 [==============================] - 1s 11us/sample - loss: 0.0358 - accuracy: 0.9898 - val_loss: 0.0319 - val_accuracy: 0.9911\n",
            "Epoch 45/1000\n",
            "59392/60000 [============================>.] - ETA: 0s - loss: 0.0337 - accuracy: 0.9902\n",
            "Epoch 00045: val_loss did not improve from 0.02904\n",
            "60000/60000 [==============================] - 1s 11us/sample - loss: 0.0339 - accuracy: 0.9901 - val_loss: 0.0315 - val_accuracy: 0.9905\n",
            "Epoch 46/1000\n",
            "58368/60000 [============================>.] - ETA: 0s - loss: 0.0338 - accuracy: 0.9904\n",
            "Epoch 00046: val_loss did not improve from 0.02904\n",
            "60000/60000 [==============================] - 1s 10us/sample - loss: 0.0337 - accuracy: 0.9904 - val_loss: 0.0332 - val_accuracy: 0.9914\n",
            "Epoch 47/1000\n",
            "58880/60000 [============================>.] - ETA: 0s - loss: 0.0322 - accuracy: 0.9907\n",
            "Epoch 00047: val_loss improved from 0.02904 to 0.02844, saving model to /drive/My Drive/Github/CNN/LeNet5_best_model.h5\n",
            "60000/60000 [==============================] - 1s 11us/sample - loss: 0.0320 - accuracy: 0.9908 - val_loss: 0.0284 - val_accuracy: 0.9915\n",
            "Epoch 48/1000\n",
            "56832/60000 [===========================>..] - ETA: 0s - loss: 0.0334 - accuracy: 0.9903\n",
            "Epoch 00048: val_loss did not improve from 0.02844\n",
            "60000/60000 [==============================] - 1s 11us/sample - loss: 0.0336 - accuracy: 0.9902 - val_loss: 0.0314 - val_accuracy: 0.9914\n",
            "Epoch 49/1000\n",
            "55808/60000 [==========================>...] - ETA: 0s - loss: 0.0312 - accuracy: 0.9910\n",
            "Epoch 00049: val_loss did not improve from 0.02844\n",
            "60000/60000 [==============================] - 1s 11us/sample - loss: 0.0319 - accuracy: 0.9908 - val_loss: 0.0343 - val_accuracy: 0.9903\n",
            "Epoch 50/1000\n",
            "58368/60000 [============================>.] - ETA: 0s - loss: 0.0306 - accuracy: 0.9912\n",
            "Epoch 00050: val_loss did not improve from 0.02844\n",
            "60000/60000 [==============================] - 1s 11us/sample - loss: 0.0308 - accuracy: 0.9911 - val_loss: 0.0292 - val_accuracy: 0.9917\n",
            "Epoch 51/1000\n",
            "56832/60000 [===========================>..] - ETA: 0s - loss: 0.0290 - accuracy: 0.9914\n",
            "Epoch 00051: val_loss did not improve from 0.02844\n",
            "60000/60000 [==============================] - 1s 10us/sample - loss: 0.0295 - accuracy: 0.9913 - val_loss: 0.0324 - val_accuracy: 0.9917\n",
            "Epoch 52/1000\n",
            "57344/60000 [===========================>..] - ETA: 0s - loss: 0.0297 - accuracy: 0.9910\n",
            "Epoch 00052: val_loss did not improve from 0.02844\n",
            "60000/60000 [==============================] - 1s 10us/sample - loss: 0.0299 - accuracy: 0.9910 - val_loss: 0.0360 - val_accuracy: 0.9902\n",
            "Epoch 53/1000\n",
            "54784/60000 [==========================>...] - ETA: 0s - loss: 0.0301 - accuracy: 0.9908\n",
            "Epoch 00053: val_loss did not improve from 0.02844\n",
            "60000/60000 [==============================] - 1s 10us/sample - loss: 0.0296 - accuracy: 0.9909 - val_loss: 0.0332 - val_accuracy: 0.9915\n",
            "Epoch 54/1000\n",
            "54784/60000 [==========================>...] - ETA: 0s - loss: 0.0305 - accuracy: 0.9913\n",
            "Epoch 00054: val_loss did not improve from 0.02844\n",
            "60000/60000 [==============================] - 1s 11us/sample - loss: 0.0304 - accuracy: 0.9914 - val_loss: 0.0320 - val_accuracy: 0.9909\n",
            "Epoch 55/1000\n",
            "57344/60000 [===========================>..] - ETA: 0s - loss: 0.0283 - accuracy: 0.9921\n",
            "Epoch 00055: val_loss did not improve from 0.02844\n",
            "60000/60000 [==============================] - 1s 11us/sample - loss: 0.0285 - accuracy: 0.9919 - val_loss: 0.0340 - val_accuracy: 0.9906\n",
            "Epoch 56/1000\n",
            "57856/60000 [===========================>..] - ETA: 0s - loss: 0.0274 - accuracy: 0.9915\n",
            "Epoch 00056: val_loss did not improve from 0.02844\n",
            "60000/60000 [==============================] - 1s 10us/sample - loss: 0.0272 - accuracy: 0.9915 - val_loss: 0.0327 - val_accuracy: 0.9902\n",
            "Epoch 57/1000\n",
            "56320/60000 [===========================>..] - ETA: 0s - loss: 0.0254 - accuracy: 0.9922\n",
            "Epoch 00057: val_loss did not improve from 0.02844\n",
            "60000/60000 [==============================] - 1s 11us/sample - loss: 0.0253 - accuracy: 0.9922 - val_loss: 0.0343 - val_accuracy: 0.9911\n",
            "Epoch 58/1000\n",
            "54272/60000 [==========================>...] - ETA: 0s - loss: 0.0279 - accuracy: 0.9917\n",
            "Epoch 00058: val_loss did not improve from 0.02844\n",
            "60000/60000 [==============================] - 1s 11us/sample - loss: 0.0280 - accuracy: 0.9917 - val_loss: 0.0318 - val_accuracy: 0.9919\n",
            "Epoch 59/1000\n",
            "57856/60000 [===========================>..] - ETA: 0s - loss: 0.0272 - accuracy: 0.9921\n",
            "Epoch 00059: val_loss did not improve from 0.02844\n",
            "60000/60000 [==============================] - 1s 10us/sample - loss: 0.0272 - accuracy: 0.9921 - val_loss: 0.0339 - val_accuracy: 0.9910\n",
            "Epoch 60/1000\n",
            "59392/60000 [============================>.] - ETA: 0s - loss: 0.0270 - accuracy: 0.9924\n",
            "Epoch 00060: val_loss did not improve from 0.02844\n",
            "60000/60000 [==============================] - 1s 10us/sample - loss: 0.0269 - accuracy: 0.9924 - val_loss: 0.0356 - val_accuracy: 0.9911\n",
            "Epoch 61/1000\n",
            "55296/60000 [==========================>...] - ETA: 0s - loss: 0.0252 - accuracy: 0.9928\n",
            "Epoch 00061: val_loss did not improve from 0.02844\n",
            "60000/60000 [==============================] - 1s 11us/sample - loss: 0.0255 - accuracy: 0.9927 - val_loss: 0.0343 - val_accuracy: 0.9909\n",
            "Epoch 62/1000\n",
            "57856/60000 [===========================>..] - ETA: 0s - loss: 0.0249 - accuracy: 0.9922\n",
            "Epoch 00062: val_loss did not improve from 0.02844\n",
            "60000/60000 [==============================] - 1s 10us/sample - loss: 0.0254 - accuracy: 0.9922 - val_loss: 0.0350 - val_accuracy: 0.9896\n",
            "Epoch 63/1000\n",
            "59392/60000 [============================>.] - ETA: 0s - loss: 0.0260 - accuracy: 0.9926\n",
            "Epoch 00063: val_loss did not improve from 0.02844\n",
            "60000/60000 [==============================] - 1s 10us/sample - loss: 0.0261 - accuracy: 0.9926 - val_loss: 0.0308 - val_accuracy: 0.9917\n",
            "Epoch 64/1000\n",
            "27136/60000 [============>.................] - ETA: 0s - loss: 0.0237 - accuracy: 0.9936WARNING:tensorflow:Early stopping conditioned on metric `val_loss` which is not available. Available metrics are: loss,accuracy\n",
            "WARNING:tensorflow:Can save best model only with val_loss available, skipping.\n"
          ],
          "name": "stdout"
        },
        {
          "output_type": "error",
          "ename": "KeyboardInterrupt",
          "evalue": "ignored",
          "traceback": [
            "\u001b[0;31m---------------------------------------------------------------------------\u001b[0m",
            "\u001b[0;31mKeyboardInterrupt\u001b[0m                         Traceback (most recent call last)",
            "\u001b[0;32m<ipython-input-9-618ab43cea25>\u001b[0m in \u001b[0;36m<module>\u001b[0;34m()\u001b[0m\n\u001b[0;32m----> 1\u001b[0;31m \u001b[0mhistory\u001b[0m \u001b[0;34m=\u001b[0m \u001b[0mmain\u001b[0m\u001b[0;34m(\u001b[0m\u001b[0mx\u001b[0m\u001b[0;34m,\u001b[0m \u001b[0my\u001b[0m\u001b[0;34m,\u001b[0m \u001b[0mx_test\u001b[0m\u001b[0;34m,\u001b[0m \u001b[0my_test\u001b[0m\u001b[0;34m)\u001b[0m\u001b[0;34m\u001b[0m\u001b[0;34m\u001b[0m\u001b[0m\n\u001b[0m",
            "\u001b[0;32m<ipython-input-8-feeda9d6f54a>\u001b[0m in \u001b[0;36mmain\u001b[0;34m(x, y, x_test, y_test)\u001b[0m\n\u001b[1;32m     13\u001b[0m     \u001b[0mx_test\u001b[0m\u001b[0;34m,\u001b[0m \u001b[0my_test\u001b[0m \u001b[0;34m=\u001b[0m \u001b[0mpreprocess\u001b[0m\u001b[0;34m(\u001b[0m\u001b[0mx_test\u001b[0m\u001b[0;34m,\u001b[0m \u001b[0my_test\u001b[0m\u001b[0;34m)\u001b[0m\u001b[0;34m\u001b[0m\u001b[0;34m\u001b[0m\u001b[0m\n\u001b[1;32m     14\u001b[0m     history = model.fit(x=x, y=y, epochs=epochs, batch_size=512, validation_data=(x_test, y_test),\n\u001b[0;32m---> 15\u001b[0;31m                        verbose=1, callbacks=callbacks_list)\n\u001b[0m\u001b[1;32m     16\u001b[0m     \u001b[0;32mreturn\u001b[0m \u001b[0mhistory\u001b[0m\u001b[0;34m\u001b[0m\u001b[0;34m\u001b[0m\u001b[0m\n",
            "\u001b[0;32m/tensorflow-2.1.0/python3.6/tensorflow_core/python/keras/engine/training.py\u001b[0m in \u001b[0;36mfit\u001b[0;34m(self, x, y, batch_size, epochs, verbose, callbacks, validation_split, validation_data, shuffle, class_weight, sample_weight, initial_epoch, steps_per_epoch, validation_steps, validation_freq, max_queue_size, workers, use_multiprocessing, **kwargs)\u001b[0m\n\u001b[1;32m    817\u001b[0m         \u001b[0mmax_queue_size\u001b[0m\u001b[0;34m=\u001b[0m\u001b[0mmax_queue_size\u001b[0m\u001b[0;34m,\u001b[0m\u001b[0;34m\u001b[0m\u001b[0;34m\u001b[0m\u001b[0m\n\u001b[1;32m    818\u001b[0m         \u001b[0mworkers\u001b[0m\u001b[0;34m=\u001b[0m\u001b[0mworkers\u001b[0m\u001b[0;34m,\u001b[0m\u001b[0;34m\u001b[0m\u001b[0;34m\u001b[0m\u001b[0m\n\u001b[0;32m--> 819\u001b[0;31m         use_multiprocessing=use_multiprocessing)\n\u001b[0m\u001b[1;32m    820\u001b[0m \u001b[0;34m\u001b[0m\u001b[0m\n\u001b[1;32m    821\u001b[0m   def evaluate(self,\n",
            "\u001b[0;32m/tensorflow-2.1.0/python3.6/tensorflow_core/python/keras/engine/training_v2.py\u001b[0m in \u001b[0;36mfit\u001b[0;34m(self, model, x, y, batch_size, epochs, verbose, callbacks, validation_split, validation_data, shuffle, class_weight, sample_weight, initial_epoch, steps_per_epoch, validation_steps, validation_freq, max_queue_size, workers, use_multiprocessing, **kwargs)\u001b[0m\n\u001b[1;32m    340\u001b[0m                 \u001b[0mmode\u001b[0m\u001b[0;34m=\u001b[0m\u001b[0mModeKeys\u001b[0m\u001b[0;34m.\u001b[0m\u001b[0mTRAIN\u001b[0m\u001b[0;34m,\u001b[0m\u001b[0;34m\u001b[0m\u001b[0;34m\u001b[0m\u001b[0m\n\u001b[1;32m    341\u001b[0m                 \u001b[0mtraining_context\u001b[0m\u001b[0;34m=\u001b[0m\u001b[0mtraining_context\u001b[0m\u001b[0;34m,\u001b[0m\u001b[0;34m\u001b[0m\u001b[0;34m\u001b[0m\u001b[0m\n\u001b[0;32m--> 342\u001b[0;31m                 total_epochs=epochs)\n\u001b[0m\u001b[1;32m    343\u001b[0m             \u001b[0mcbks\u001b[0m\u001b[0;34m.\u001b[0m\u001b[0mmake_logs\u001b[0m\u001b[0;34m(\u001b[0m\u001b[0mmodel\u001b[0m\u001b[0;34m,\u001b[0m \u001b[0mepoch_logs\u001b[0m\u001b[0;34m,\u001b[0m \u001b[0mtraining_result\u001b[0m\u001b[0;34m,\u001b[0m \u001b[0mModeKeys\u001b[0m\u001b[0;34m.\u001b[0m\u001b[0mTRAIN\u001b[0m\u001b[0;34m)\u001b[0m\u001b[0;34m\u001b[0m\u001b[0;34m\u001b[0m\u001b[0m\n\u001b[1;32m    344\u001b[0m \u001b[0;34m\u001b[0m\u001b[0m\n",
            "\u001b[0;32m/tensorflow-2.1.0/python3.6/tensorflow_core/python/keras/engine/training_v2.py\u001b[0m in \u001b[0;36mrun_one_epoch\u001b[0;34m(model, iterator, execution_function, dataset_size, batch_size, strategy, steps_per_epoch, num_samples, mode, training_context, total_epochs)\u001b[0m\n\u001b[1;32m    126\u001b[0m         step=step, mode=mode, size=current_batch_size) as batch_logs:\n\u001b[1;32m    127\u001b[0m       \u001b[0;32mtry\u001b[0m\u001b[0;34m:\u001b[0m\u001b[0;34m\u001b[0m\u001b[0;34m\u001b[0m\u001b[0m\n\u001b[0;32m--> 128\u001b[0;31m         \u001b[0mbatch_outs\u001b[0m \u001b[0;34m=\u001b[0m \u001b[0mexecution_function\u001b[0m\u001b[0;34m(\u001b[0m\u001b[0miterator\u001b[0m\u001b[0;34m)\u001b[0m\u001b[0;34m\u001b[0m\u001b[0;34m\u001b[0m\u001b[0m\n\u001b[0m\u001b[1;32m    129\u001b[0m       \u001b[0;32mexcept\u001b[0m \u001b[0;34m(\u001b[0m\u001b[0mStopIteration\u001b[0m\u001b[0;34m,\u001b[0m \u001b[0merrors\u001b[0m\u001b[0;34m.\u001b[0m\u001b[0mOutOfRangeError\u001b[0m\u001b[0;34m)\u001b[0m\u001b[0;34m:\u001b[0m\u001b[0;34m\u001b[0m\u001b[0;34m\u001b[0m\u001b[0m\n\u001b[1;32m    130\u001b[0m         \u001b[0;31m# TODO(kaftan): File bug about tf function and errors.OutOfRangeError?\u001b[0m\u001b[0;34m\u001b[0m\u001b[0;34m\u001b[0m\u001b[0;34m\u001b[0m\u001b[0m\n",
            "\u001b[0;32m/tensorflow-2.1.0/python3.6/tensorflow_core/python/keras/engine/training_v2_utils.py\u001b[0m in \u001b[0;36mexecution_function\u001b[0;34m(input_fn)\u001b[0m\n\u001b[1;32m     96\u001b[0m     \u001b[0;31m# `numpy` translates Tensors to values in Eager mode.\u001b[0m\u001b[0;34m\u001b[0m\u001b[0;34m\u001b[0m\u001b[0;34m\u001b[0m\u001b[0m\n\u001b[1;32m     97\u001b[0m     return nest.map_structure(_non_none_constant_value,\n\u001b[0;32m---> 98\u001b[0;31m                               distributed_function(input_fn))\n\u001b[0m\u001b[1;32m     99\u001b[0m \u001b[0;34m\u001b[0m\u001b[0m\n\u001b[1;32m    100\u001b[0m   \u001b[0;32mreturn\u001b[0m \u001b[0mexecution_function\u001b[0m\u001b[0;34m\u001b[0m\u001b[0;34m\u001b[0m\u001b[0m\n",
            "\u001b[0;32m/tensorflow-2.1.0/python3.6/tensorflow_core/python/eager/def_function.py\u001b[0m in \u001b[0;36m__call__\u001b[0;34m(self, *args, **kwds)\u001b[0m\n\u001b[1;32m    566\u001b[0m         \u001b[0mxla_context\u001b[0m\u001b[0;34m.\u001b[0m\u001b[0mExit\u001b[0m\u001b[0;34m(\u001b[0m\u001b[0;34m)\u001b[0m\u001b[0;34m\u001b[0m\u001b[0;34m\u001b[0m\u001b[0m\n\u001b[1;32m    567\u001b[0m     \u001b[0;32melse\u001b[0m\u001b[0;34m:\u001b[0m\u001b[0;34m\u001b[0m\u001b[0;34m\u001b[0m\u001b[0m\n\u001b[0;32m--> 568\u001b[0;31m       \u001b[0mresult\u001b[0m \u001b[0;34m=\u001b[0m \u001b[0mself\u001b[0m\u001b[0;34m.\u001b[0m\u001b[0m_call\u001b[0m\u001b[0;34m(\u001b[0m\u001b[0;34m*\u001b[0m\u001b[0margs\u001b[0m\u001b[0;34m,\u001b[0m \u001b[0;34m**\u001b[0m\u001b[0mkwds\u001b[0m\u001b[0;34m)\u001b[0m\u001b[0;34m\u001b[0m\u001b[0;34m\u001b[0m\u001b[0m\n\u001b[0m\u001b[1;32m    569\u001b[0m \u001b[0;34m\u001b[0m\u001b[0m\n\u001b[1;32m    570\u001b[0m     \u001b[0;32mif\u001b[0m \u001b[0mtracing_count\u001b[0m \u001b[0;34m==\u001b[0m \u001b[0mself\u001b[0m\u001b[0;34m.\u001b[0m\u001b[0m_get_tracing_count\u001b[0m\u001b[0;34m(\u001b[0m\u001b[0;34m)\u001b[0m\u001b[0;34m:\u001b[0m\u001b[0;34m\u001b[0m\u001b[0;34m\u001b[0m\u001b[0m\n",
            "\u001b[0;32m/tensorflow-2.1.0/python3.6/tensorflow_core/python/eager/def_function.py\u001b[0m in \u001b[0;36m_call\u001b[0;34m(self, *args, **kwds)\u001b[0m\n\u001b[1;32m    597\u001b[0m       \u001b[0;31m# In this case we have created variables on the first call, so we run the\u001b[0m\u001b[0;34m\u001b[0m\u001b[0;34m\u001b[0m\u001b[0;34m\u001b[0m\u001b[0m\n\u001b[1;32m    598\u001b[0m       \u001b[0;31m# defunned version which is guaranteed to never create variables.\u001b[0m\u001b[0;34m\u001b[0m\u001b[0;34m\u001b[0m\u001b[0;34m\u001b[0m\u001b[0m\n\u001b[0;32m--> 599\u001b[0;31m       \u001b[0;32mreturn\u001b[0m \u001b[0mself\u001b[0m\u001b[0;34m.\u001b[0m\u001b[0m_stateless_fn\u001b[0m\u001b[0;34m(\u001b[0m\u001b[0;34m*\u001b[0m\u001b[0margs\u001b[0m\u001b[0;34m,\u001b[0m \u001b[0;34m**\u001b[0m\u001b[0mkwds\u001b[0m\u001b[0;34m)\u001b[0m  \u001b[0;31m# pylint: disable=not-callable\u001b[0m\u001b[0;34m\u001b[0m\u001b[0;34m\u001b[0m\u001b[0m\n\u001b[0m\u001b[1;32m    600\u001b[0m     \u001b[0;32melif\u001b[0m \u001b[0mself\u001b[0m\u001b[0;34m.\u001b[0m\u001b[0m_stateful_fn\u001b[0m \u001b[0;32mis\u001b[0m \u001b[0;32mnot\u001b[0m \u001b[0;32mNone\u001b[0m\u001b[0;34m:\u001b[0m\u001b[0;34m\u001b[0m\u001b[0;34m\u001b[0m\u001b[0m\n\u001b[1;32m    601\u001b[0m       \u001b[0;31m# Release the lock early so that multiple threads can perform the call\u001b[0m\u001b[0;34m\u001b[0m\u001b[0;34m\u001b[0m\u001b[0;34m\u001b[0m\u001b[0m\n",
            "\u001b[0;32m/tensorflow-2.1.0/python3.6/tensorflow_core/python/eager/function.py\u001b[0m in \u001b[0;36m__call__\u001b[0;34m(self, *args, **kwargs)\u001b[0m\n\u001b[1;32m   2361\u001b[0m     \u001b[0;32mwith\u001b[0m \u001b[0mself\u001b[0m\u001b[0;34m.\u001b[0m\u001b[0m_lock\u001b[0m\u001b[0;34m:\u001b[0m\u001b[0;34m\u001b[0m\u001b[0;34m\u001b[0m\u001b[0m\n\u001b[1;32m   2362\u001b[0m       \u001b[0mgraph_function\u001b[0m\u001b[0;34m,\u001b[0m \u001b[0margs\u001b[0m\u001b[0;34m,\u001b[0m \u001b[0mkwargs\u001b[0m \u001b[0;34m=\u001b[0m \u001b[0mself\u001b[0m\u001b[0;34m.\u001b[0m\u001b[0m_maybe_define_function\u001b[0m\u001b[0;34m(\u001b[0m\u001b[0margs\u001b[0m\u001b[0;34m,\u001b[0m \u001b[0mkwargs\u001b[0m\u001b[0;34m)\u001b[0m\u001b[0;34m\u001b[0m\u001b[0;34m\u001b[0m\u001b[0m\n\u001b[0;32m-> 2363\u001b[0;31m     \u001b[0;32mreturn\u001b[0m \u001b[0mgraph_function\u001b[0m\u001b[0;34m.\u001b[0m\u001b[0m_filtered_call\u001b[0m\u001b[0;34m(\u001b[0m\u001b[0margs\u001b[0m\u001b[0;34m,\u001b[0m \u001b[0mkwargs\u001b[0m\u001b[0;34m)\u001b[0m  \u001b[0;31m# pylint: disable=protected-access\u001b[0m\u001b[0;34m\u001b[0m\u001b[0;34m\u001b[0m\u001b[0m\n\u001b[0m\u001b[1;32m   2364\u001b[0m \u001b[0;34m\u001b[0m\u001b[0m\n\u001b[1;32m   2365\u001b[0m   \u001b[0;34m@\u001b[0m\u001b[0mproperty\u001b[0m\u001b[0;34m\u001b[0m\u001b[0;34m\u001b[0m\u001b[0m\n",
            "\u001b[0;32m/tensorflow-2.1.0/python3.6/tensorflow_core/python/eager/function.py\u001b[0m in \u001b[0;36m_filtered_call\u001b[0;34m(self, args, kwargs)\u001b[0m\n\u001b[1;32m   1609\u001b[0m          if isinstance(t, (ops.Tensor,\n\u001b[1;32m   1610\u001b[0m                            resource_variable_ops.BaseResourceVariable))),\n\u001b[0;32m-> 1611\u001b[0;31m         self.captured_inputs)\n\u001b[0m\u001b[1;32m   1612\u001b[0m \u001b[0;34m\u001b[0m\u001b[0m\n\u001b[1;32m   1613\u001b[0m   \u001b[0;32mdef\u001b[0m \u001b[0m_call_flat\u001b[0m\u001b[0;34m(\u001b[0m\u001b[0mself\u001b[0m\u001b[0;34m,\u001b[0m \u001b[0margs\u001b[0m\u001b[0;34m,\u001b[0m \u001b[0mcaptured_inputs\u001b[0m\u001b[0;34m,\u001b[0m \u001b[0mcancellation_manager\u001b[0m\u001b[0;34m=\u001b[0m\u001b[0;32mNone\u001b[0m\u001b[0;34m)\u001b[0m\u001b[0;34m:\u001b[0m\u001b[0;34m\u001b[0m\u001b[0;34m\u001b[0m\u001b[0m\n",
            "\u001b[0;32m/tensorflow-2.1.0/python3.6/tensorflow_core/python/eager/function.py\u001b[0m in \u001b[0;36m_call_flat\u001b[0;34m(self, args, captured_inputs, cancellation_manager)\u001b[0m\n\u001b[1;32m   1690\u001b[0m       \u001b[0;31m# No tape is watching; skip to running the function.\u001b[0m\u001b[0;34m\u001b[0m\u001b[0;34m\u001b[0m\u001b[0;34m\u001b[0m\u001b[0m\n\u001b[1;32m   1691\u001b[0m       return self._build_call_outputs(self._inference_function.call(\n\u001b[0;32m-> 1692\u001b[0;31m           ctx, args, cancellation_manager=cancellation_manager))\n\u001b[0m\u001b[1;32m   1693\u001b[0m     forward_backward = self._select_forward_and_backward_functions(\n\u001b[1;32m   1694\u001b[0m         \u001b[0margs\u001b[0m\u001b[0;34m,\u001b[0m\u001b[0;34m\u001b[0m\u001b[0;34m\u001b[0m\u001b[0m\n",
            "\u001b[0;32m/tensorflow-2.1.0/python3.6/tensorflow_core/python/eager/function.py\u001b[0m in \u001b[0;36mcall\u001b[0;34m(self, ctx, args, cancellation_manager)\u001b[0m\n\u001b[1;32m    543\u001b[0m               \u001b[0minputs\u001b[0m\u001b[0;34m=\u001b[0m\u001b[0margs\u001b[0m\u001b[0;34m,\u001b[0m\u001b[0;34m\u001b[0m\u001b[0;34m\u001b[0m\u001b[0m\n\u001b[1;32m    544\u001b[0m               \u001b[0mattrs\u001b[0m\u001b[0;34m=\u001b[0m\u001b[0;34m(\u001b[0m\u001b[0;34m\"executor_type\"\u001b[0m\u001b[0;34m,\u001b[0m \u001b[0mexecutor_type\u001b[0m\u001b[0;34m,\u001b[0m \u001b[0;34m\"config_proto\"\u001b[0m\u001b[0;34m,\u001b[0m \u001b[0mconfig\u001b[0m\u001b[0;34m)\u001b[0m\u001b[0;34m,\u001b[0m\u001b[0;34m\u001b[0m\u001b[0;34m\u001b[0m\u001b[0m\n\u001b[0;32m--> 545\u001b[0;31m               ctx=ctx)\n\u001b[0m\u001b[1;32m    546\u001b[0m         \u001b[0;32melse\u001b[0m\u001b[0;34m:\u001b[0m\u001b[0;34m\u001b[0m\u001b[0;34m\u001b[0m\u001b[0m\n\u001b[1;32m    547\u001b[0m           outputs = execute.execute_with_cancellation(\n",
            "\u001b[0;32m/tensorflow-2.1.0/python3.6/tensorflow_core/python/eager/execute.py\u001b[0m in \u001b[0;36mquick_execute\u001b[0;34m(op_name, num_outputs, inputs, attrs, ctx, name)\u001b[0m\n\u001b[1;32m     59\u001b[0m     tensors = pywrap_tensorflow.TFE_Py_Execute(ctx._handle, device_name,\n\u001b[1;32m     60\u001b[0m                                                \u001b[0mop_name\u001b[0m\u001b[0;34m,\u001b[0m \u001b[0minputs\u001b[0m\u001b[0;34m,\u001b[0m \u001b[0mattrs\u001b[0m\u001b[0;34m,\u001b[0m\u001b[0;34m\u001b[0m\u001b[0;34m\u001b[0m\u001b[0m\n\u001b[0;32m---> 61\u001b[0;31m                                                num_outputs)\n\u001b[0m\u001b[1;32m     62\u001b[0m   \u001b[0;32mexcept\u001b[0m \u001b[0mcore\u001b[0m\u001b[0;34m.\u001b[0m\u001b[0m_NotOkStatusException\u001b[0m \u001b[0;32mas\u001b[0m \u001b[0me\u001b[0m\u001b[0;34m:\u001b[0m\u001b[0;34m\u001b[0m\u001b[0;34m\u001b[0m\u001b[0m\n\u001b[1;32m     63\u001b[0m     \u001b[0;32mif\u001b[0m \u001b[0mname\u001b[0m \u001b[0;32mis\u001b[0m \u001b[0;32mnot\u001b[0m \u001b[0;32mNone\u001b[0m\u001b[0;34m:\u001b[0m\u001b[0;34m\u001b[0m\u001b[0;34m\u001b[0m\u001b[0m\n",
            "\u001b[0;31mKeyboardInterrupt\u001b[0m: "
          ]
        }
      ]
    },
    {
      "cell_type": "code",
      "metadata": {
        "id": "eUc3Qoh8oRY-",
        "colab_type": "code",
        "colab": {}
      },
      "source": [
        ""
      ],
      "execution_count": 0,
      "outputs": []
    },
    {
      "cell_type": "code",
      "metadata": {
        "id": "zc3mWiS-oRZA",
        "colab_type": "code",
        "colab": {}
      },
      "source": [
        ""
      ],
      "execution_count": 0,
      "outputs": []
    }
  ]
}